{
 "cells": [
  {
   "cell_type": "markdown",
   "id": "c0fd0eae-024a-41c7-981e-88acca7f3297",
   "metadata": {},
   "source": [
    "# Predict stock future behavior"
   ]
  },
  {
   "cell_type": "markdown",
   "id": "0e1fee75-3a77-4394-80e3-a7b0382d45da",
   "metadata": {},
   "source": [
    "Following the tutorial on [Github](https://github.com/dataquestio/project-walkthroughs/tree/master/stock) and [YouTube](https://www.youtube.com/watch?v=SYrFhugaoZk&list=PL6UJrXaOPPcEesMFPaieQJwnBvKiRH2tT&index=40)."
   ]
  },
  {
   "cell_type": "markdown",
   "id": "8a5faffc-d539-400b-9e04-4744045d9e7d",
   "metadata": {},
   "source": [
    "I want to make money by buying stocks. Since I want to make money, I only want to buy stock on days when the price will go up. So, I want to create a machine learning algorithm to predict if the stock price will increase tomorrow. If the algorithm says that the price will increase, I'll buy stock. If the algorithm says that the price will go down, I won't do anything.\n",
    "\n",
    "For this purpose, I want to maximize the `true positives` - days when the algorithm predicts that the price will go up, and it actually goes go up. Therefore, I'll be using `precision` as error metric for the algorithm. It is defined as:\n",
    "\n",
    "<center> `precision` = `true positives / (false positives + true positives)` </center>\n",
    "    \n",
    "This will ensure that I minimize how much money I lose with false positives (days when we buy the stock, but the price actually goes down).\n",
    "\n",
    "This means that I will have to accept a lot of `false negatives` - days when I predict that the price will go down, but it actually goes up. This is okay, since I'd rather minimize the potential losses than maximize the potential gains.\n",
    "\n",
    "## Method\n",
    "Before we get to the machine learning, we need to do a lot of work to acquire and clean up the data. Here are the steps we'll follow:\n",
    "- Download historical stock prices from Yahoo finance\n",
    "- Explore the data\n",
    "- Setup the dataset to predict future prices using historical prices\n",
    "- Test a machine learning model\n",
    "- Setup a backtesting engine\n",
    "- Improve the accuracy of the model\n",
    " \n",
    "At the end, we'll document some potential future directions we can go in to improve the technique.\n",
    "\n",
    "## Data\n",
    "I will use Microsoft stock data since there is a long history of that."
   ]
  },
  {
   "cell_type": "code",
   "execution_count": 6,
   "id": "4cb16bca-905c-4b9c-9511-679f01e7c62b",
   "metadata": {},
   "outputs": [],
   "source": [
    "#! pip install yfinance"
   ]
  },
  {
   "cell_type": "markdown",
   "id": "12a9704b-f59e-4a2d-a417-985dabcb0a8c",
   "metadata": {},
   "source": [
    "# Import libraries and download data"
   ]
  },
  {
   "cell_type": "code",
   "execution_count": 1,
   "id": "bf44c07c-1387-4307-8546-28bc434aec8b",
   "metadata": {},
   "outputs": [],
   "source": [
    "import numpy as np\n",
    "import pandas as pd\n",
    "import matplotlib.pyplot as plt\n",
    "import yfinance as yf\n",
    "import json\n",
    "import os"
   ]
  },
  {
   "cell_type": "markdown",
   "id": "7f8c433d-c9a1-4304-b84c-c1220d30b124",
   "metadata": {},
   "source": [
    "The following cell is used if you have already downloaded the data as `.json` file. I won't use it."
   ]
  },
  {
   "cell_type": "code",
   "execution_count": 7,
   "id": "9455aaa7-1a70-408a-b5f0-0bae7c26ae46",
   "metadata": {},
   "outputs": [
    {
     "data": {
      "text/plain": [
       "'\\nDATA_PATH = \"msft_data.json\"\\n\\nif os.path.exists(DATA_PATH):\\n    # Read from file if we\\'ve already downloaded the data.\\n    with open(DATA_PATH) as f:\\n        msft_hist = pd.read_json(DATA_PATH)\\nelse:\\n    msft = yf.Ticker(\"MSFT\")\\n    msft_hist = msft.history(period=\"max\")\\n\\n    # Save file to json in case we need it later.  This prevents us from having to re-download it every time.\\n    msft_hist.to_json(DATA_PATH)\\n'"
      ]
     },
     "execution_count": 7,
     "metadata": {},
     "output_type": "execute_result"
    }
   ],
   "source": [
    "\"\"\"\n",
    "DATA_PATH = \"msft_data.json\"\n",
    "\n",
    "if os.path.exists(DATA_PATH):\n",
    "    # Read from file if we've already downloaded the data.\n",
    "    with open(DATA_PATH) as f:\n",
    "        msft_hist = pd.read_json(DATA_PATH)\n",
    "else:\n",
    "    msft = yf.Ticker(\"MSFT\")\n",
    "    msft_hist = msft.history(period=\"max\")\n",
    "\n",
    "    # Save file to json in case we need it later.  This prevents us from having to re-download it every time.\n",
    "    msft_hist.to_json(DATA_PATH)\n",
    "\"\"\""
   ]
  },
  {
   "cell_type": "code",
   "execution_count": 9,
   "id": "40661249-7eec-499f-91df-a1d0d1284c1e",
   "metadata": {},
   "outputs": [],
   "source": [
    "msft = yf.Ticker(\"MSFT\")\n",
    "msft_hist = msft.history(period=\"max\")"
   ]
  },
  {
   "cell_type": "markdown",
   "id": "f11034eb-10e4-48ac-8181-99e4e9263715",
   "metadata": {},
   "source": [
    "# Explore the data"
   ]
  },
  {
   "cell_type": "code",
   "execution_count": 14,
   "id": "d6757f55-fdfa-49cf-9d87-32fda8e71030",
   "metadata": {},
   "outputs": [
    {
     "data": {
      "text/plain": [
       "(pandas.core.frame.DataFrame, (9835, 7))"
      ]
     },
     "execution_count": 14,
     "metadata": {},
     "output_type": "execute_result"
    }
   ],
   "source": [
    "type(msft_hist), msft_hist.shape"
   ]
  },
  {
   "cell_type": "code",
   "execution_count": 16,
   "id": "2f5b9723-a0ff-4f3d-a8db-62115f5814aa",
   "metadata": {},
   "outputs": [
    {
     "data": {
      "text/html": [
       "<div>\n",
       "<style scoped>\n",
       "    .dataframe tbody tr th:only-of-type {\n",
       "        vertical-align: middle;\n",
       "    }\n",
       "\n",
       "    .dataframe tbody tr th {\n",
       "        vertical-align: top;\n",
       "    }\n",
       "\n",
       "    .dataframe thead th {\n",
       "        text-align: right;\n",
       "    }\n",
       "</style>\n",
       "<table border=\"1\" class=\"dataframe\">\n",
       "  <thead>\n",
       "    <tr style=\"text-align: right;\">\n",
       "      <th></th>\n",
       "      <th>Open</th>\n",
       "      <th>High</th>\n",
       "      <th>Low</th>\n",
       "      <th>Close</th>\n",
       "      <th>Volume</th>\n",
       "      <th>Dividends</th>\n",
       "      <th>Stock Splits</th>\n",
       "    </tr>\n",
       "    <tr>\n",
       "      <th>Date</th>\n",
       "      <th></th>\n",
       "      <th></th>\n",
       "      <th></th>\n",
       "      <th></th>\n",
       "      <th></th>\n",
       "      <th></th>\n",
       "      <th></th>\n",
       "    </tr>\n",
       "  </thead>\n",
       "  <tbody>\n",
       "    <tr>\n",
       "      <th>1986-03-13 00:00:00-05:00</th>\n",
       "      <td>0.054376</td>\n",
       "      <td>0.062373</td>\n",
       "      <td>0.054376</td>\n",
       "      <td>0.059707</td>\n",
       "      <td>1031788800</td>\n",
       "      <td>0.0</td>\n",
       "      <td>0.0</td>\n",
       "    </tr>\n",
       "    <tr>\n",
       "      <th>1986-03-14 00:00:00-05:00</th>\n",
       "      <td>0.059707</td>\n",
       "      <td>0.062906</td>\n",
       "      <td>0.059707</td>\n",
       "      <td>0.061839</td>\n",
       "      <td>308160000</td>\n",
       "      <td>0.0</td>\n",
       "      <td>0.0</td>\n",
       "    </tr>\n",
       "    <tr>\n",
       "      <th>1986-03-17 00:00:00-05:00</th>\n",
       "      <td>0.061839</td>\n",
       "      <td>0.063439</td>\n",
       "      <td>0.061839</td>\n",
       "      <td>0.062906</td>\n",
       "      <td>133171200</td>\n",
       "      <td>0.0</td>\n",
       "      <td>0.0</td>\n",
       "    </tr>\n",
       "    <tr>\n",
       "      <th>1986-03-18 00:00:00-05:00</th>\n",
       "      <td>0.062906</td>\n",
       "      <td>0.063439</td>\n",
       "      <td>0.060773</td>\n",
       "      <td>0.061306</td>\n",
       "      <td>67766400</td>\n",
       "      <td>0.0</td>\n",
       "      <td>0.0</td>\n",
       "    </tr>\n",
       "    <tr>\n",
       "      <th>1986-03-19 00:00:00-05:00</th>\n",
       "      <td>0.061306</td>\n",
       "      <td>0.061839</td>\n",
       "      <td>0.059707</td>\n",
       "      <td>0.060240</td>\n",
       "      <td>47894400</td>\n",
       "      <td>0.0</td>\n",
       "      <td>0.0</td>\n",
       "    </tr>\n",
       "  </tbody>\n",
       "</table>\n",
       "</div>"
      ],
      "text/plain": [
       "                               Open      High       Low     Close      Volume  \\\n",
       "Date                                                                            \n",
       "1986-03-13 00:00:00-05:00  0.054376  0.062373  0.054376  0.059707  1031788800   \n",
       "1986-03-14 00:00:00-05:00  0.059707  0.062906  0.059707  0.061839   308160000   \n",
       "1986-03-17 00:00:00-05:00  0.061839  0.063439  0.061839  0.062906   133171200   \n",
       "1986-03-18 00:00:00-05:00  0.062906  0.063439  0.060773  0.061306    67766400   \n",
       "1986-03-19 00:00:00-05:00  0.061306  0.061839  0.059707  0.060240    47894400   \n",
       "\n",
       "                           Dividends  Stock Splits  \n",
       "Date                                                \n",
       "1986-03-13 00:00:00-05:00        0.0           0.0  \n",
       "1986-03-14 00:00:00-05:00        0.0           0.0  \n",
       "1986-03-17 00:00:00-05:00        0.0           0.0  \n",
       "1986-03-18 00:00:00-05:00        0.0           0.0  \n",
       "1986-03-19 00:00:00-05:00        0.0           0.0  "
      ]
     },
     "execution_count": 16,
     "metadata": {},
     "output_type": "execute_result"
    }
   ],
   "source": [
    "msft_hist.head()"
   ]
  },
  {
   "cell_type": "code",
   "execution_count": 22,
   "id": "2904d547-2888-4b5e-9577-4f86628f34fc",
   "metadata": {},
   "outputs": [
    {
     "data": {
      "text/plain": [
       "<Axes: xlabel='Date'>"
      ]
     },
     "execution_count": 22,
     "metadata": {},
     "output_type": "execute_result"
    },
    {
     "data": {
      "image/png": "[encoded data removed]",
      "text/plain": [
       "<Figure size 640x480 with 1 Axes>"
      ]
     },
     "metadata": {},
     "output_type": "display_data"
    }
   ],
   "source": [
    "msft_hist.plot.line(y='Close', use_index=True)"
   ]
  },
  {
   "cell_type": "code",
   "execution_count": null,
   "id": "79ddb599-d1c2-4550-b9c8-7473fbfc689a",
   "metadata": {},
   "outputs": [],
   "source": []
  }
 ],
 "metadata": {
  "kernelspec": {
   "display_name": "Python [conda env:base] *",
   "language": "python",
   "name": "conda-base-py"
  },
  "language_info": {
   "codemirror_mode": {
    "name": "ipython",
    "version": 3
   },
   "file_extension": ".py",
   "mimetype": "text/x-python",
   "name": "python",
   "nbconvert_exporter": "python",
   "pygments_lexer": "ipython3",
   "version": "3.12.7"
  }
 },
 "nbformat": 4,
 "nbformat_minor": 5
}
